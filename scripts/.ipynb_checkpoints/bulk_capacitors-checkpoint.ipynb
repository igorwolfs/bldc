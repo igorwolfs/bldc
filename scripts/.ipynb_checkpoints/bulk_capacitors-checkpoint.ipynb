{
 "cells": [
  {
   "cell_type": "markdown",
   "id": "762026d6-120f-461f-8df8-7159efd6b696",
   "metadata": {},
   "source": [
    "# FET Circuit\n",
    "When transients occur a certain amount of charge may be required by the circuit. This is delivered by bulk capacitors closer to the circuit, bypassing the inductance on the power supply line.\n",
    "Depending on the frequency and the size of the transient different types of capacitors may be required."
   ]
  },
  {
   "cell_type": "markdown",
   "id": "d150125f-c286-45d5-a4b9-c7894ca16b39",
   "metadata": {},
   "source": [
    "## FET"
   ]
  },
  {
   "cell_type": "markdown",
   "id": "51f36df8-89e6-4fa6-8c66-aa6324959e3c",
   "metadata": {},
   "source": [
    "### Small signal circuit\n",
    "<div>\n",
    "<img src=\"images/small_signal_circuit.jpg\" width=\"400\"/>\n",
    "</div>"
   ]
  },
  {
   "cell_type": "markdown",
   "id": "22d456e4-8cd7-46a9-b044-7efd3910cdf0",
   "metadata": {},
   "source": [
    "## Source & Drain\n",
    "**DRAIN**: Inflow of current on switch opening\n",
    "* Switch closing: C_{dg} discharges (Vdg ↓), C_{ds} discharges (Vds ↓)\n",
    "* Switch opening: C_{dg} charges (Vdg ↑), C_{gs} charges (Vds ↑) \n",
    "\n",
    "**SOURCE**:\n",
    "* Switch closing: C_{sg} discharges (Vsg ↓), C_{sd} charges (Vsd ↑)\n",
    "* Switch opening: C_{sg} charges (Vsg ↑), C_{gs} charges (Vsd ↓)"
   ]
  },
  {
   "cell_type": "code",
   "execution_count": 3,
   "id": "3325b9ad-a952-4ec7-9ed8-5c70798cbee5",
   "metadata": {},
   "outputs": [],
   "source": [
    "Coss = 100e-12 # Output capacitance (C_gd + C_ds) (F)\n",
    "Ciss = 910e-12 # Input capacitance (C_gd ++ C_gs)\n",
    "Crss = 30e-12 # C_gd\n",
    "\n",
    "t_on = 26e-9 # Turn-on delay time\n",
    "t_r = 6e-9 # Rise time (90 -> 10 % Vds)\n",
    "t_off = 52-9 # Turn-on delay time\n",
    "t_f = 7e-9 # Fall time (10 -> 90 % Vds)\n",
    "\n",
    "Qg = 31e-9 # Total gate charge (Coulomb)\n",
    "Qgs = 9e-9 # Total gate-source charge \n",
    "Qgd = 5e-9 # Total drain charge"
   ]
  },
  {
   "cell_type": "code",
   "execution_count": 4,
   "id": "dbddfe62-75d5-4ee7-845e-ae00a196eecb",
   "metadata": {},
   "outputs": [
    {
     "name": "stdout",
     "output_type": "stream",
     "text": [
      "switching_noise: 166.67 MHz\n"
     ]
    }
   ],
   "source": [
    "f_switch = 1/min(t_r, t_f)\n",
    "print(f\"Frequency the capacitors should be able to handle: {f_switch*1e-6:.2f} MHz\")"
   ]
  },
  {
   "cell_type": "markdown",
   "id": "3309c827-0105-4fbf-9605-e693c4afd3ac",
   "metadata": {},
   "source": [
    "Given the non-linear behaviour of the parasitic capacitances, we put a 10 nF capacitance in series with a 1 ohm resistor / equivalent ESR."
   ]
  },
  {
   "cell_type": "markdown",
   "id": "1655d365-991c-4dc7-b64f-9bd97e7893f2",
   "metadata": {},
   "source": [
    "## Gate"
   ]
  },
  {
   "cell_type": "markdown",
   "id": "8fa260bc-2080-4d48-893e-27f961b73779",
   "metadata": {},
   "source": [
    "Rise / Fall times for ir2104:\n",
    "* rise-time: 75-130 ns\n",
    "* ton-delay: 820 ns\n",
    "* descent-time: 35-70 ns\n",
    "* toff-delay: 200 ns"
   ]
  },
  {
   "cell_type": "code",
   "execution_count": 6,
   "id": "6622d81e-22e2-4b24-8c97-7ff0f3a1dcd0",
   "metadata": {},
   "outputs": [
    {
     "name": "stdout",
     "output_type": "stream",
     "text": [
      "t_delay: 0.12 %\n"
     ]
    }
   ],
   "source": [
    "#! Typical timing values\n",
    "t_rise = 130e-9\n",
    "t_on = 820e-9\n",
    "t_fall = 70e-9\n",
    "t_off = 200e-9\n",
    "#! Max expected switching frequency\n",
    "f_max = 1e3\n",
    "#! Percentage\n",
    "print(f\"t_delay: {(t_rise+t_on+t_fall+t_off)/(1/f_max)*100:.2f} %\")"
   ]
  },
  {
   "cell_type": "code",
   "execution_count": 9,
   "id": "a9730ce0-d6b8-4d22-bb55-69229404e8dc",
   "metadata": {},
   "outputs": [],
   "source": [
    "#! Make sure the gate current does not exceed these values.\n",
    "Ir2104_out = 0.3 # 0.3 Amps output current for ir2104 drivers\n",
    "Ir2104_in = 0.6 # 0.6 Amps current sink for ir2104 drivers\n",
    "Vgs_max = 12"
   ]
  },
  {
   "cell_type": "markdown",
   "id": "5497a421-8847-47dc-80bb-db7580ba0ccc",
   "metadata": {},
   "source": [
    "#### Before gate resistor\n",
    "Initial current limitation is about +-0.8 amps. (Simulation)\n",
    "#### After gate resistor\n",
    "Adding in a 50-ohm resistor should reduce \n",
    "* the current to 0.15 A\n",
    "* peak voltages up to 6 Volts\n",
    "* power peaks of 0.9 W\n",
    "According to simulations however this will lead to a gate charging time of about 3 us."
   ]
  },
  {
   "cell_type": "markdown",
   "id": "703ce441-ec02-4904-b428-469191e12654",
   "metadata": {},
   "source": [
    "**Sources:**\n",
    "> https://toshiba.semicon-storage.com/info/application_note_en_20230209_AKX00063.pdf?did=13415#:~:text=For%20the%20power%20MOSFET%2C%20the,on%20drain%2Dsource%20voltage%20VDS. \\\n",
    ">  https://wmsc.lcsc.com/wmsc/upload/file/pdf/v2/lcsc/2308071424_Minos-IRFZ44N_C7429904.pdf \\\n",
    "> https://electronics.stackexchange.com/questions/664787/how-does-mosfet-gate-drain-capacitance-behave#:~:text=When%20a%20voltage%20is%20applied,gate%20voltage%20to%20drain%20voltage. \\\n",
    "> https://electronics.stackexchange.com/questions/628104/what-are-these-capacitors-and-resistors-for "
   ]
  },
  {
   "cell_type": "code",
   "execution_count": null,
   "id": "22839eb6-cb07-4e28-93fb-e904127ea1ac",
   "metadata": {},
   "outputs": [],
   "source": []
  },
  {
   "cell_type": "markdown",
   "id": "1b8fb95d-ece5-4294-942a-d0c054a44478",
   "metadata": {},
   "source": [
    "## BLDC - DC-link / Bus capacitor sizing"
   ]
  },
  {
   "cell_type": "markdown",
   "id": "b0e1810a-20af-4c43-9901-9500c14dbf96",
   "metadata": {},
   "source": [
    "## Motor requirements\n",
    "* Voltage supply: 16 V\n",
    "* Current supply: 14 Amps RMS\n",
    "* Switching frequency: up to 1 KHz\n",
    "* Inverter output frequency: 6 kHz\n",
    "* Paverage_max 300 Watt"
   ]
  },
  {
   "cell_type": "markdown",
   "id": "d76e9c0f-53d8-4e0d-8be7-f80103f71634",
   "metadata": {},
   "source": [
    "4 main Issues:\n",
    "* Ripple current due to inverter switching\n",
    "* Voltage fluctuation due to source inductance\n",
    "* Voltage transient due to leakage inductance and fast switching\n",
    "* Overvoltage due to regenerative breaking"
   ]
  },
  {
   "cell_type": "markdown",
   "id": "4ad79a99-bcb2-4a4f-ab7d-5346b853fd4d",
   "metadata": {},
   "source": [
    "### Capacitor RMS current load"
   ]
  },
  {
   "cell_type": "markdown",
   "id": "ebf25735-91d9-4ee9-a738-615118a3eff3",
   "metadata": {},
   "source": [
    "With $I_{C, rms,1}$ the capacitor current resulting from the maximum amplitude of the inverter output current.\n",
    "* $I_{C, rms, 1} = I_{N,rms}*\\sqrt{2*M*(\\sqrt{3}/(4*\\pi) + cos²(\\phi) * (\\sqrt{3} / \\pi - (9/16)*M))}$\n",
    "\n",
    "And M the modulation index, ranges between $[0, \\frac{2}{\\sqrt{3}}]$:\n",
    "* $M = \\frac{U_{u}}{0.5*U_{o}}$\n",
    "\n",
    "$\\phi$: the phase displacement between output current and output voltage \\\n",
    "$I_{N,RMS}$: the RMS value of the phase current."
   ]
  },
  {
   "cell_type": "code",
   "execution_count": 11,
   "id": "15bbf589-5c9e-4c1b-8f25-e4ec00abe5e8",
   "metadata": {},
   "outputs": [],
   "source": [
    "import math as m"
   ]
  },
  {
   "cell_type": "code",
   "execution_count": 32,
   "id": "db26900c-4202-48e6-882f-4a4b43c24a68",
   "metadata": {},
   "outputs": [],
   "source": [
    "M = 0.6 #  Assumption from (2) -> 6-step switching scheme, (1/3)*T the switching is enabled\n",
    "cosphi = 0.80 # Rough assumption\n",
    "I_N_RMS = 14"
   ]
  },
  {
   "cell_type": "code",
   "execution_count": 33,
   "id": "ae4407c5-2618-4b77-8428-b48d016918eb",
   "metadata": {},
   "outputs": [
    {
     "name": "stdout",
     "output_type": "stream",
     "text": [
      "RMS capacitor ripple current : 7.696806850409524 A\n"
     ]
    }
   ],
   "source": [
    "I_C_RMS_1 = I_N_RMS * m.sqrt(2*M*m.sqrt(3)/(4*m.pi) + cosphi**2*(m.sqrt(3)/m.pi - (9/16)*M))\n",
    "print(f\"RMS capacitor ripple current : {I_C_RMS_1} A\")"
   ]
  },
  {
   "cell_type": "markdown",
   "id": "0b92fbfc-80e2-4185-80cb-57aed530af63",
   "metadata": {},
   "source": [
    "### Capacitor value for reverse breaking"
   ]
  },
  {
   "cell_type": "markdown",
   "id": "038d6e64-23ea-449e-84a2-1c037834e7cc",
   "metadata": {},
   "source": [
    "$i_{c}$"
   ]
  },
  {
   "cell_type": "code",
   "execution_count": null,
   "id": "8e06b465-d2af-4692-a4c3-c5234228bfb3",
   "metadata": {},
   "outputs": [],
   "source": []
  },
  {
   "cell_type": "markdown",
   "id": "b532ec01-7e22-4941-9032-72954e8ed9af",
   "metadata": {},
   "source": [
    "**Sources:**\n",
    "> (1) https://www.pes-publications.ee.ethz.ch/uploads/tx_ethpublications/2_JWK_1999_Analytical_Calculation_RMS_00816361.pdf\n",
    "> (2) https://www.specterengineering.com/blog/2019/9/7/dc-link-capacitor-selection-for-your-inverter\n",
    "> (3) https://www.ecicaps.com/tech-tools/technical-papers/low-inductance-dc-bus-capacitor-high-power-traction-motor-drive-inverters/\n",
    "> "
   ]
  },
  {
   "cell_type": "markdown",
   "id": "4a7616bc-292d-4662-a580-cc2f987bb176",
   "metadata": {},
   "source": [
    "**_NOTE :_** \n",
    "* Check the simulations of single_fet_driver.asc\n",
    "\n",
    "In order to insert a model file for a model type, add:\n",
    "_\"SYMATTR ModelFile Z:\\home\\<user_name>\\<path_to_spice_library>_\" right below the SYMMATRX Value <component_name>.asy symbol-file"
   ]
  },
  {
   "cell_type": "markdown",
   "id": "9370cba6-f675-43d7-a716-f363651f494f",
   "metadata": {
    "jp-MarkdownHeadingCollapsed": true
   },
   "source": [
    "## Examples"
   ]
  },
  {
   "cell_type": "markdown",
   "id": "32da2d69-622d-4d90-8155-a3f5a4f3da2a",
   "metadata": {},
   "source": [
    "### TIDA-00472"
   ]
  },
  {
   "cell_type": "markdown",
   "id": "dc87e372-476c-4cef-b072-74bdf4dcc25f",
   "metadata": {},
   "source": [
    "The DC bus capacitor here is mainly used for regenerative breaking power storage, ripple current and to prevent power supply instabilities from propagating into the motor.\n",
    "The capacitor values of about 214 uF was calculated using the following steps:"
   ]
  },
  {
   "cell_type": "code",
   "execution_count": 32,
   "id": "8bc6e7a9-61b3-4d7b-aba6-d71656e91035",
   "metadata": {},
   "outputs": [],
   "source": [
    "import math\n",
    "# GRID\n",
    "Vphase = 230 # Grid phase voltage\n",
    "Vampl = 230 * math.sqrt(2)\n",
    "f_grid = 50 # Grid frequency\n",
    "# MOTOR\n",
    "P_DC = 250 # Watt: Motor rated power\n",
    "dV = 0.1 # Maximum voltage ripple in %\n",
    "V_DC_AVG = Vphase*math.sqrt(2)*(1-dV/2) # Average DC voltage assumed given linear fluctuation around the ripple"
   ]
  },
  {
   "cell_type": "code",
   "execution_count": 39,
   "id": "1270effb-f176-44c5-95e9-7e2207b82024",
   "metadata": {},
   "outputs": [
    {
     "name": "stdout",
     "output_type": "stream",
     "text": [
      "[Vmin, Vmax] (292.7422074112307 -> 325.2691193458119)\n"
     ]
    }
   ],
   "source": [
    "### CALCULATE THE ACTUAL MIN AND MAX VOLTAGE RANGE\n",
    "Vmax = Vampl\n",
    "Vmin = Vmax*0.9\n",
    "print(f\"[Vmin, Vmax] ({Vmin} -> {Vmax})\")"
   ]
  },
  {
   "cell_type": "code",
   "execution_count": 34,
   "id": "bf0be439-a218-4811-9698-813f4077b0cc",
   "metadata": {},
   "outputs": [],
   "source": [
    "# Calculate the time the capacitor is not being charged by the grid (so from 0 -> theta\n",
    "# Vphase*sqrt(2)*sin(theta) = Vmin\n",
    "theta = math.asin(Vmin/Vmax)"
   ]
  },
  {
   "cell_type": "code",
   "execution_count": 35,
   "id": "afcfaeb2-6122-4239-8fc5-46e5e9221d46",
   "metadata": {},
   "outputs": [],
   "source": [
    "### Add pi/2 to get the full angle the input voltage is below the required voltage.\n",
    "### This seems to be an underestimation, since the full bridge does conduct for angles between -1.198 and -pi/2\n",
    "theta_discharge = theta + math.pi/2\n",
    "### Calculate the time of discharge\n",
    "t_discharge = theta_discharge / (2*math.pi*f_grid)"
   ]
  },
  {
   "cell_type": "code",
   "execution_count": 36,
   "id": "bf4981b6-46b8-4fa6-bf73-a6ae7074b933",
   "metadata": {},
   "outputs": [],
   "source": [
    "### Rated input current\n",
    "I_DC = P_DC / (dV*Vampl)"
   ]
  },
  {
   "cell_type": "code",
   "execution_count": 37,
   "id": "b7d45d9f-8200-4326-a042-125f53be39fa",
   "metadata": {},
   "outputs": [
    {
     "name": "stdout",
     "output_type": "stream",
     "text": [
      "The minimum capacitance must be greater than 213.02201444415817 uF\n"
     ]
    }
   ],
   "source": [
    "C_min = I_DC*t_discharge / V_DC_AVG\n",
    "print(f\"The minimum capacitance must be greater than {C_min*1e6} uF\")"
   ]
  },
  {
   "cell_type": "markdown",
   "id": "ad22412c-173b-49a9-a69c-b59a95fbc17a",
   "metadata": {},
   "source": [
    "**NOTE:** This calculation above is simply a calculation for the single-phase ac-dc power converter, it does not take into account any transient power consumption of the bldc motor. A calculation of this sort does not seem to be necessary in this case."
   ]
  },
  {
   "cell_type": "markdown",
   "id": "d2a39e9b-73d4-442a-b044-8a18b5d8418b",
   "metadata": {},
   "source": [
    "**Sources:**\n",
    "> https://www.ti.com/tool/TIDA-00472 \\\n",
    "> https://www.ti.com/lit/ug/tiduar7a/tiduar7a.pdf?ts=1719268683807&ref_url=https%253A%252F%252Fwww.ti.com%252Fsitesearch%252Fen-us%252Fdocs%252Funiversalsearch.tsp%253FlangPref%253Den-US"
   ]
  },
  {
   "cell_type": "markdown",
   "id": "05d1f075-1de8-4fd6-83b4-9985785d55e0",
   "metadata": {},
   "source": [
    "## "
   ]
  }
 ],
 "metadata": {
  "kernelspec": {
   "display_name": "Python 3 (ipykernel)",
   "language": "python",
   "name": "python3"
  },
  "language_info": {
   "codemirror_mode": {
    "name": "ipython",
    "version": 3
   },
   "file_extension": ".py",
   "mimetype": "text/x-python",
   "name": "python",
   "nbconvert_exporter": "python",
   "pygments_lexer": "ipython3",
   "version": "3.10.12"
  }
 },
 "nbformat": 4,
 "nbformat_minor": 5
}
