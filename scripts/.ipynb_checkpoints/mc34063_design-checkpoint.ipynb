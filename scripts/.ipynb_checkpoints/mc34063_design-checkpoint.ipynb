{
 "cells": [
  {
   "cell_type": "markdown",
   "id": "e4ad202f-f6e2-4020-9ca4-7a24c0d830e8",
   "metadata": {},
   "source": [
    "# Buck Converter Design\n",
    "<div>\n",
    "<img src=\"images/buck_filter_schematic.png\" width=\"800\"/>\n",
    "</div>"
   ]
  },
  {
   "cell_type": "markdown",
   "id": "bb285bd3-68aa-4c5b-b656-1b68c32e90a6",
   "metadata": {},
   "source": [
    "## Principle of operation"
   ]
  },
  {
   "cell_type": "markdown",
   "id": "76713537-bcab-44a4-8b22-94c0b61ba045",
   "metadata": {},
   "source": [
    "### Oscillator\n",
    "The oscillator consists of a current source and sink, charging Ct between lower and upper thresholds.\n",
    "* Charge current : 35 uA -> ramp-up -> Logic 1 at AND gate\n",
    "* Discharge current: 200 uA -> ramp-down -> Logic 0 at AND gate"
   ]
  },
  {
   "cell_type": "markdown",
   "id": "6e0867cd-8c06-44b5-b9c4-ee48da771e8b",
   "metadata": {},
   "source": [
    "<div>\n",
    "<img src=\"images/mc34063_CT_waveform.png\" width=\"400\"/>\n",
    "</div>"
   ]
  },
  {
   "cell_type": "markdown",
   "id": "82a8a5a1-b05b-4cec-aff5-ba374e8cafdf",
   "metadata": {},
   "source": [
    "#### Case 1\n",
    "The oscillator charges (ramp-up)\n",
    "* AND-gate oscillator input is high, so S will be\n",
    "    * High if there is an output undervoltage &#8594;\n",
    "    * Low if there is an output overvoltage &#8594;\n",
    "* RESET will be low\n",
    "Then the latch will be set, \"Q\" = 1 -> output switch saturates.\n",
    "#### Case 2\n",
    "Oscillator reaches upper threshold. CT discharges\n",
    "* AND-gate oscillator input is low, so S will be low.\n",
    "* RESET will be high\n",
    "So the driver and output switch will be disabled.\n",
    "#### Conclusion\n",
    "Only during ramp-up of CT, when the S-input can become high can the output switch be set high."
   ]
  },
  {
   "cell_type": "markdown",
   "id": "19bf5d47-438d-4750-b8d4-53f2f47fd5ae",
   "metadata": {},
   "source": [
    "<div>\n",
    "<img src=\"images/mc34063_truth_table.png\" width=\"800\"/>\n",
    "</div>"
   ]
  },
  {
   "cell_type": "markdown",
   "id": "37f9325b-7db1-430e-9ab3-479812f8eda9",
   "metadata": {},
   "source": [
    "### Current Limiting\n",
    "Using an external resistor Rsc = 0.33 Ohm, the voltage drop isn monitored as a proxy for the current.\n",
    "1. When Vrsc > 0.33 V (a.k.a. Irsc > 1 A).\n",
    "2. An additional charging path is opened for CT\n",
    "3. Discharge time is more rapidly reached -> Switch-off of the buck converter occurs.\n",
    "\n",
    "Possible reasons\n",
    "* Overloading / shorting the output\n",
    "* Having an input voltage too high above the nominal design value"
   ]
  },
  {
   "cell_type": "markdown",
   "id": "7cbd0b2e-cece-4d04-972d-68cf5457b519",
   "metadata": {},
   "source": [
    "<div>\n",
    "<img src=\"images/mc34063_current_limiting.png\" width=\"600\"/>\n",
    "</div>"
   ]
  },
  {
   "cell_type": "markdown",
   "id": "ad252bb6-5bb4-4789-96c9-85e8cbf0c811",
   "metadata": {},
   "source": [
    "## IMPORTANT\n",
    "Check for discontinuous conduction mode (i.e. the inductor current falling to zero). You'll notice the inductor current falling to zero and the emitter voltage starting to oscillate due to the undamped LC circuit when the diode starts conducting. These formulas only work in case of continuous conduction mode.\n",
    "\n",
    "When simulating make sure:\n",
    "* The load current isn't too high, so the simulated current matches the realistic current.\n",
    "* The ESR's are included\n",
    "\n",
    "However, if the mc34063 actually enters discontinuous conduction mode, its not necessarily a problem, as long as the voltage stays stable and there's no sudden currrent spikes which draw all the current from the circuit."
   ]
  },
  {
   "cell_type": "markdown",
   "id": "86497841-86b6-46e0-bbe4-135a198bd5da",
   "metadata": {},
   "source": [
    "## Fixed Parameters"
   ]
  },
  {
   "cell_type": "code",
   "execution_count": 5,
   "id": "3759f942-26e3-4e20-9ff0-d0011d282964",
   "metadata": {},
   "outputs": [],
   "source": [
    "### Fixed Design parameters\n",
    "Vin = 15    # (nominal input voltage) V (minimum)\n",
    "VF = 0.6    # Chosen forward voltage drop - diode used: 1N5819\n",
    "Vsat = 1.3  # Saturated drop of mc34064 integrated darlington.\n",
    "fmin = 50e3 # Minimum switching frequency"
   ]
  },
  {
   "cell_type": "markdown",
   "id": "5fd807f6-9247-497d-abe3-0e7a535091f9",
   "metadata": {},
   "source": [
    "## Design Vin -> 5 V"
   ]
  },
  {
   "cell_type": "code",
   "execution_count": 6,
   "id": "304435b8-bdea-4475-b922-2ca2d99489de",
   "metadata": {},
   "outputs": [],
   "source": [
    "### Variable design parameters\n",
    "Vout = 5 # (output voltage) V\n",
    "Vripple = 0.01 # (ripple voltage (peak 2 peak))"
   ]
  },
  {
   "cell_type": "code",
   "execution_count": 7,
   "id": "3f701e68-12ec-4109-9458-31d62dc766c9",
   "metadata": {},
   "outputs": [
    {
     "name": "stdout",
     "output_type": "stream",
     "text": [
      "Iout: 0.28400000000000003\n"
     ]
    }
   ],
   "source": [
    "### Iout_<5 V\n",
    "Iout_stm32 = 0.16 # datasheet p. 59\n",
    "Iout_opamp = 0.008 # datasheet p. 7, we have 3 of those\n",
    "Iout_CAN = 0.1 # Datasheet page 10 (when CAN is in dominant mode)\n",
    "\n",
    "### Iout_driver (5 V)\n",
    "Iout = Iout_stm32 + Iout_opamp*3 + Iout_CAN\n",
    "print(f\"Iout: {Iout}\")"
   ]
  },
  {
   "cell_type": "markdown",
   "id": "a7d58437-491c-4189-9e19-0230f1e541fc",
   "metadata": {},
   "source": [
    "**sources**\n",
    "> https://www.ti.com/lit/ds/symlink/ina180.pdfhttps://www.ti.com/lit/ds/symlink/ina180.pdf\n",
    "> https://www.st.com/resource/en/datasheet/stm32f303cb.pdf\n",
    "> https://ww1.microchip.com/downloads/en/DeviceDoc/20005991B.pdf"
   ]
  },
  {
   "cell_type": "markdown",
   "id": "a23d481f-ca28-4283-9480-b86f3aadddcf",
   "metadata": {},
   "source": [
    "### LC Filter Period\n",
    "* toff: time for\n",
    "    * the output voltage to reach lower limit $Vout-Vripple/2$\n",
    "    * inductor current to reach peak: $IL(peak)$\n",
    "* ton: time for\n",
    "    * the output voltage to reach upper limit $Vout+Vripple/2$\n",
    "    * Depending on the conduction mode (discontinuous / continuous) \\\n",
    "\n",
    "**ton/toff** \\\n",
    "IL: Current through the inductor\\\n",
    "ON conduction time: $IL = ((Vin - Vsat - Vout) / L)t$ \\\n",
    "OFF conduction time: $IL = IL(peak) - ((Vout + Vf) / L)t$ \\\n",
    "=> $ton / toff = Vout + VF / (Vin - Vsat - Vout)$ \\\n",
    "\n",
    "**ton + toff** \\\n",
    "The minimum switching frequency for the buck converter is equal to:\n",
    "* $fmin = 1/(ton(max) + toff)$ \n",
    "  \n",
    "A typical swithcing frequency chosen is 50 kHz. This frequency assumes the longest on-time. In reality the on-time might be shorter depending on the load (current consumption)."
   ]
  },
  {
   "cell_type": "code",
   "execution_count": 8,
   "id": "368a6d83-4026-44ee-ac3b-67d1ddf9c720",
   "metadata": {},
   "outputs": [
    {
     "name": "stdout",
     "output_type": "stream",
     "text": [
      "ton: 7.83216783216783 us. toff: 12.1678321678322 us.\n",
      "ton/toff: 0.643678160919540\n"
     ]
    }
   ],
   "source": [
    "import sympy as sp\n",
    "ton, toff = sp.symbols('ton toff', real=True)\n",
    "eq1 = -ton/toff + (Vout + VF) / (Vin - Vsat - Vout)\n",
    "eq2 = -fmin + 1/(ton+toff)\n",
    "ton_toff = sp.solve([eq1, eq2], [ton, toff])\n",
    "ton = ton_toff[ton]\n",
    "toff = ton_toff[toff]\n",
    "print(f\"ton: {ton*1e6} us. toff: {toff*1e6} us.\")\n",
    "print(f\"ton/toff: {ton/toff}\")\n",
    "if ((ton / (ton+toff)) > 6/7):\n",
    "    # Maximum charge-to-discharge current is 6:1\n",
    "    print(f\"WARNING: {(ton / (ton+toff))}\")"
   ]
  },
  {
   "cell_type": "markdown",
   "id": "40573a5d-a262-4ce7-a361-c24c9a1f2911",
   "metadata": {},
   "source": [
    "### Inductor selection\n",
    "Select an inductor value using the formula:\n",
    "* Il = ((Vin - Vsat - Vout) / L) t\n",
    "\n",
    "Assuming the average inductor current is equal to the output current (neglecting parasitics and leakage). The current has a sawtooth form (according to the inductor function). Assuming continuous conduction mode:\n",
    "* Il(pk).ton/2 + Il(pk).toff/2 = Iout.ton + Iout.toff\n",
    "\n",
    "V = L.di/dt <=> integral(V) = L.t\n",
    "Evalutated at t = ton; I = Il(peak)\n",
    "<div>\n",
    "<img src=\"images/buck_filter_current_waveform.png\" width=\"600\"/>\n",
    "</div>\n",
    "\n",
    "NOTE: this formula assumes continuous conduction mode, in case of discontinuous conduction mode, the inductor current gets interrupted and the charge flows from the capacitor"
   ]
  },
  {
   "cell_type": "code",
   "execution_count": 9,
   "id": "1509373c-28a0-48b6-a9f3-009ae5e07459",
   "metadata": {},
   "outputs": [
    {
     "name": "stdout",
     "output_type": "stream",
     "text": [
      "Lmin: 119.964542499754 uH\n"
     ]
    }
   ],
   "source": [
    "Ipk = 2*Iout\n",
    "Lmin = ((Vin-Vsat-Vout)/Ipk)*ton\n",
    "print(f\"Lmin: {Lmin*1e6} uH\")"
   ]
  },
  {
   "cell_type": "markdown",
   "id": "6bd061e6-de36-43d5-8352-c7162e5583f6",
   "metadata": {},
   "source": [
    "### Oscillator calculation\n",
    "Select a value for the oscillator capacitor. This capacitor gets charged and discharged with a voltage dV, and a current Ichg(min), found in (5)\n",
    "* Max discharge current: 260uA\n",
    "* Max charging current: 42 uA\n",
    "* Max discharge / charge ratio: 5.2\n",
    "* Charge -> Discharge voltage: 0.8 -> 2.0 V\n",
    "* Current limiter voltage sensitivity: 0.350 V (0.330 for model)"
   ]
  },
  {
   "cell_type": "code",
   "execution_count": 10,
   "id": "3748856b-4279-46e0-8f92-964fb48bc6ff",
   "metadata": {},
   "outputs": [
    {
     "name": "stdout",
     "output_type": "stream",
     "text": [
      "Ct: 375.944055944056 pF\n"
     ]
    }
   ],
   "source": [
    "Ichg_min = 24e-6\n",
    "dV = 0.25\n",
    "C_T = Ichg_min * (ton / (2*dV))\n",
    "print(f\"Ct: {C_T*1e12} pF\")"
   ]
  },
  {
   "cell_type": "markdown",
   "id": "ecd2c7b1-3be8-47f2-a251-710d91a5e59b",
   "metadata": {},
   "source": [
    "### Rsc\n",
    "The Rsc value is determined using the formula $R_{sc} = 0.35 / I_{pk\\_sw}$.\n",
    "It may be reduced downwards for conversion losses and peak current increases if Vin varies upward.\n",
    "\n",
    "The voltage drop across this Rsc resistor is monitored by $I_{pk}$. $I_{pk}$ provides an extra charging path for the timing capacitor when the voltage drop becomes too high (a.k.a. the current gets too large). \"Too high\" in this case is between 0.33 and 0.35 (depending on the component).\n",
    "\n",
    "During C_T charging the switch CAN be closed, so this reduces the closed-time of the switch."
   ]
  },
  {
   "cell_type": "code",
   "execution_count": 11,
   "id": "e352ac8c-c480-46cf-a5c0-a809f0907712",
   "metadata": {},
   "outputs": [
    {
     "name": "stdout",
     "output_type": "stream",
     "text": [
      "Rsc: 0.6161971830985914\n"
     ]
    }
   ],
   "source": [
    "if (Ipk > 1.3):\n",
    "    print(\"WARNING: PEAK CURRENT DEFINED AS BEING LARGER THAN 1.3 AMPS\")\n",
    "    Ipk = 1.3\n",
    "Rsc = 0.35 / Ipk\n",
    "print(f\"Rsc: {Rsc}\")"
   ]
  },
  {
   "cell_type": "markdown",
   "id": "a97d51a0-5db4-42ae-a2eb-85ce00d1dc54",
   "metadata": {},
   "source": [
    "Note that this should be a high-power resistor since it is supposed to take the full buck converter current."
   ]
  },
  {
   "cell_type": "markdown",
   "id": "61627871-1b01-4bf7-988d-f25e32bba9cd",
   "metadata": {},
   "source": [
    "### Capacitor selection\n",
    "Net charge delivered to the Capacitor over one period is 0 ($Q = \\int icdt\\ = 0$), disregarding capacitor parasitics. \n",
    "$Q/C = V$ <=> $dq/dt = CdV/dt + VdC/dt$ <=> $(1/C).idt =dV$ \\\n",
    "Half the time charge is delivered to the capacitor, it is charging when current is flowing into the capacitor.\n",
    "\n",
    "* $Vripple = (1/C0) \\int i dt\\ + (1/C0)\\int i'dt\\ $\\\n",
    "  = $Ipk.(ton + toff) / (8.C0)$\n",
    "* $i = (1/2).Ipk.t/(ton/2)$      [t0 -> t1] = ton/2\n",
    "* $i' = (1/2).Ipk.t/(toff/2)$    [t1 -> t2] = toff/2\n",
    "\n",
    "<div>\n",
    "<img src=\"images/buck_filter_cap_charging.png\" width=\"600\"/>\n",
    "</div>"
   ]
  },
  {
   "cell_type": "code",
   "execution_count": 12,
   "id": "37a52b5d-331d-46e8-81b1-b18b0f3db309",
   "metadata": {},
   "outputs": [
    {
     "name": "stdout",
     "output_type": "stream",
     "text": [
      "C0: 142.000000000000 uF\n"
     ]
    }
   ],
   "source": [
    "C0 = Ipk*(ton+toff)/(8*Vripple)\n",
    "print(f\"C0: {C0*1e6} uF\")\n",
    "#! WARNING: Check capacitor ESR, 0.1 ohm ESR gives 0.5 V ripple"
   ]
  },
  {
   "cell_type": "markdown",
   "id": "86c4631d-b0ad-47c6-a293-6d43060df0f6",
   "metadata": {},
   "source": [
    "### Feedback Circuit\n",
    "The voltage reference is 1.25 V (see figure 11), so the feedback circuit should be designed so that $Vout.R1/(R1+R2) = 1.25$ <=> $Vout = 1.25(R2/R1+1)$"
   ]
  },
  {
   "cell_type": "code",
   "execution_count": 13,
   "id": "d386c367-a18b-4139-9c51-2b0b7b44d79f",
   "metadata": {},
   "outputs": [
    {
     "name": "stdout",
     "output_type": "stream",
     "text": [
      "Ratio R2/R1: 3.0\n",
      "R2: 3.6kOhm R1: 1.2kOhm\n"
     ]
    }
   ],
   "source": [
    "R2_R1_ratio = (Vout / 1.25) -1\n",
    "print(f\"Ratio R2/R1: {R2_R1_ratio}\")\n",
    "R2 = 3.6e3\n",
    "R1 = R2/R2_R1_ratio\n",
    "print(f\"R2: {R2*1e-3}kOhm R1: {R1*1e-3}kOhm\")"
   ]
  },
  {
   "cell_type": "markdown",
   "id": "1051ae8d-0d3a-41ea-8b89-b2d92280dce4",
   "metadata": {},
   "source": [
    "## Design Vin -> 10 V"
   ]
  },
  {
   "cell_type": "code",
   "execution_count": 14,
   "id": "5be2a7c2-eae9-4e74-ad00-691656a902d0",
   "metadata": {},
   "outputs": [],
   "source": [
    "Vout = 11 # (output voltage) V\n",
    "Vripple = 0.1 # (ripple voltage (peak 2 peak))"
   ]
  },
  {
   "cell_type": "code",
   "execution_count": 15,
   "id": "f971412c-c5a6-42ad-967c-8b7ebc9cbbd1",
   "metadata": {},
   "outputs": [
    {
     "name": "stdout",
     "output_type": "stream",
     "text": [
      "Iout: 0.0216\n",
      "note: this is the worst-case value, in case the switching frequency is the highest possible\n"
     ]
    }
   ],
   "source": [
    "### Iout_driver (10 V)\n",
    "Qout_high = 14e-3 * 12e-6\n",
    "Qout_low = 6e-3 * 8e-6\n",
    "t_total = 60e-6\n",
    "# Multiplying by 2 to account for the peak currents\n",
    "I_avg_ir2104 = (( Qout_high + Qout_low ) / t_total) * 2\n",
    "# We use a factor 2 since \n",
    "# 1. In reality none of the switches should be operating at the same time\n",
    "# 2. The 360 mA is the actual maximum short-circuit pulse for the lower driver\n",
    "Iout = I_avg_ir2104*3\n",
    "print(f\"Iout: {Iout}\")\n",
    "print(\"note: this is the worst-case value, in case the switching frequency is the highest possible\")"
   ]
  },
  {
   "cell_type": "markdown",
   "id": "224bd412-d993-4f01-8092-36887f058ece",
   "metadata": {},
   "source": [
    "### LC Filter period"
   ]
  },
  {
   "cell_type": "code",
   "execution_count": 16,
   "id": "20fc1b08-cd85-4834-8093-355981bf627f",
   "metadata": {},
   "outputs": [
    {
     "name": "stdout",
     "output_type": "stream",
     "text": [
      "ton: 16.2237762237762 us. toff: 3.77622377622378 us.\n",
      "ton/toff: 4.29629629629630\n"
     ]
    }
   ],
   "source": [
    "import sympy as sp\n",
    "ton, toff = sp.symbols('ton toff', real=True)\n",
    "eq1 = -ton/toff + (Vout + VF) / (Vin - Vsat - Vout)\n",
    "eq2 = -fmin + 1/(ton+toff)\n",
    "ton_toff = sp.solve([eq1, eq2], [ton, toff])\n",
    "ton = ton_toff[ton]\n",
    "toff = ton_toff[toff]\n",
    "print(f\"ton: {ton*1e6} us. toff: {toff*1e6} us.\")\n",
    "print(f\"ton/toff: {ton/toff}\")\n",
    "if ((ton / (ton+toff)) > 6/7):\n",
    "    # Maximum charge-to-discharge current is 6:1\n",
    "    print(f\"WARNING: {(ton / (ton+toff))}\")"
   ]
  },
  {
   "cell_type": "markdown",
   "id": "d5a7b783-6700-41ce-abb2-d2b112c17f7a",
   "metadata": {},
   "source": [
    "### Oscillator Calculation"
   ]
  },
  {
   "cell_type": "code",
   "execution_count": 17,
   "id": "35d57248-9055-45a2-b9e9-8ce0b0b67a98",
   "metadata": {},
   "outputs": [
    {
     "name": "stdout",
     "output_type": "stream",
     "text": [
      "Ct: 778.741258741259 pF\n"
     ]
    }
   ],
   "source": [
    "Ichg_min = 24e-6\n",
    "dV = 0.25\n",
    "C_T = Ichg_min * (ton / (2*dV))\n",
    "print(f\"Ct: {C_T*1e12} pF\")"
   ]
  },
  {
   "cell_type": "markdown",
   "id": "b02690e2-2009-49c4-8dec-ca21a4a11cee",
   "metadata": {},
   "source": [
    "### Inductor selection"
   ]
  },
  {
   "cell_type": "code",
   "execution_count": 18,
   "id": "bab6484a-43bd-4c40-9c98-5457bc9df991",
   "metadata": {},
   "outputs": [
    {
     "name": "stdout",
     "output_type": "stream",
     "text": [
      "Lmin: 1013.98601398601 uH\n"
     ]
    }
   ],
   "source": [
    "Ipk = 2*Iout\n",
    "Lmin = ((Vin-Vsat-Vout)/Ipk)*ton\n",
    "print(f\"Lmin: {Lmin*1e6} uH\")"
   ]
  },
  {
   "cell_type": "markdown",
   "id": "96552964-9315-4065-8d02-07dd35e17d30",
   "metadata": {},
   "source": [
    "### Rsc"
   ]
  },
  {
   "cell_type": "code",
   "execution_count": 14,
   "id": "fd738b56-c4dc-4d63-a5a5-fd082a3fa7bf",
   "metadata": {},
   "outputs": [
    {
     "name": "stdout",
     "output_type": "stream",
     "text": [
      "Rsc: 7.638888888888889\n"
     ]
    }
   ],
   "source": [
    "if (Ipk > 1.3):\n",
    "    print(\"WARNING: PEAK CURRENT DEFINED AS BEING LARGER THAN 1.5 AMPS\")\n",
    "    Ipk = 1.3\n",
    "Rsc = 0.33 / Ipk\n",
    "print(f\"Rsc: {Rsc}\")"
   ]
  },
  {
   "cell_type": "markdown",
   "id": "6a47a3d2-bd11-4eb6-83ea-8ff77b187895",
   "metadata": {},
   "source": [
    "### Capacitor selection"
   ]
  },
  {
   "cell_type": "code",
   "execution_count": 16,
   "id": "083c3471-1411-4b23-a329-ea100dbed582",
   "metadata": {},
   "outputs": [
    {
     "name": "stdout",
     "output_type": "stream",
     "text": [
      "C0: 1.08000000000000 uF\n"
     ]
    }
   ],
   "source": [
    "C0 = Ipk*(ton+toff)/(8*Vripple)\n",
    "print(f\"C0: {C0*1e6} uF\")\n",
    "#! WARNING: Check capacitor ESR, 0.1 ohm ESR gives 0.5 V ripple"
   ]
  },
  {
   "cell_type": "markdown",
   "id": "453a89c5-212e-47ce-9d8c-8a62c3a8c661",
   "metadata": {},
   "source": [
    "### Feedback Circuit"
   ]
  },
  {
   "cell_type": "code",
   "execution_count": 17,
   "id": "99cafafc-06b8-4f96-aaf6-f2fafc6eddec",
   "metadata": {},
   "outputs": [
    {
     "name": "stdout",
     "output_type": "stream",
     "text": [
      "Ratio R2/R1: 39/5 - 7.8\n",
      "R2: 3.9kOhm R1: 0.5kOhm\n"
     ]
    }
   ],
   "source": [
    "from fractions import Fraction\n",
    "R2_R1_ratio = round((Vout / 1.25) - 1, 2)\n",
    "print(f\"Ratio R2/R1: 39/5 - {R2_R1_ratio}\")\n",
    "R2 = 3.9e3\n",
    "R1 = R2/R2_R1_ratio\n",
    "print(f\"R2: {R2*1e-3}kOhm R1: {R1*1e-3}kOhm\")"
   ]
  },
  {
   "cell_type": "code",
   "execution_count": null,
   "id": "6b86bed9-488e-4639-937e-51fc8482a99d",
   "metadata": {},
   "outputs": [],
   "source": []
  }
 ],
 "metadata": {
  "kernelspec": {
   "display_name": "Python 3 (ipykernel)",
   "language": "python",
   "name": "python3"
  },
  "language_info": {
   "codemirror_mode": {
    "name": "ipython",
    "version": 3
   },
   "file_extension": ".py",
   "mimetype": "text/x-python",
   "name": "python",
   "nbconvert_exporter": "python",
   "pygments_lexer": "ipython3",
   "version": "3.10.12"
  }
 },
 "nbformat": 4,
 "nbformat_minor": 5
}
