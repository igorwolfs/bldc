{
 "cells": [
  {
   "cell_type": "markdown",
   "id": "b6ff1e61-7184-4879-a7e7-f514692d5420",
   "metadata": {},
   "source": [
    "# Buck Feedback Analysis"
   ]
  },
  {
   "cell_type": "code",
   "execution_count": null,
   "id": "b4819d97-7d53-4169-a241-66fa99af4035",
   "metadata": {},
   "outputs": [],
   "source": []
  },
  {
   "cell_type": "code",
   "execution_count": null,
   "id": "510622ac-9a20-42be-80c5-59d01416b22b",
   "metadata": {},
   "outputs": [],
   "source": []
  },
  {
   "cell_type": "markdown",
   "id": "86a240cd-2607-4147-b959-9a672e320a06",
   "metadata": {},
   "source": [
    "**sources**\n",
    "> https://ridleyengineering.com/images/phocadownload/1%20second%20stage%20filter%20design.pdf \\\n",
    "> https://www.ti.com/lit/ds/symlink/mc33063a.pdf?ts=1717502531295 (check for layout) \\\n",
    "> https://electronics.stackexchange.com/questions/698509/input-impedance-of-a-buck-converter"
   ]
  },
  {
   "cell_type": "code",
   "execution_count": null,
   "id": "1eb73f7c-e7e3-401e-9c62-17eaaa3622c5",
   "metadata": {},
   "outputs": [],
   "source": []
  }
 ],
 "metadata": {
  "kernelspec": {
   "display_name": "Python 3 (ipykernel)",
   "language": "python",
   "name": "python3"
  },
  "language_info": {
   "codemirror_mode": {
    "name": "ipython",
    "version": 3
   },
   "file_extension": ".py",
   "mimetype": "text/x-python",
   "name": "python",
   "nbconvert_exporter": "python",
   "pygments_lexer": "ipython3",
   "version": "3.10.12"
  }
 },
 "nbformat": 4,
 "nbformat_minor": 5
}
