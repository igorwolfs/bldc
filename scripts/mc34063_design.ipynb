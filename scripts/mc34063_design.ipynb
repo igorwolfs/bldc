{
 "cells": [
  {
   "cell_type": "markdown",
   "id": "e4ad202f-f6e2-4020-9ca4-7a24c0d830e8",
   "metadata": {},
   "source": [
    "# Buck Converter Design\n",
    "<div>\n",
    "<img src=\"images/buck_filter_schematic.png\" width=\"800\"/>\n",
    "</div>"
   ]
  },
  {
   "cell_type": "markdown",
   "id": "bb285bd3-68aa-4c5b-b656-1b68c32e90a6",
   "metadata": {},
   "source": [
    "## Principle of operation"
   ]
  },
  {
   "cell_type": "markdown",
   "id": "76713537-bcab-44a4-8b22-94c0b61ba045",
   "metadata": {},
   "source": [
    "### Oscillator\n",
    "The oscillator consists of a current source and sink, charging Ct between lower and upper thresholds.\n",
    "* Charge current : 35 uA -> ramp-up -> Logic 1 at AND gate\n",
    "* Discharge current: 200 uA -> ramp-down -> Logic 0 at AND gate"
   ]
  },
  {
   "cell_type": "markdown",
   "id": "6e0867cd-8c06-44b5-b9c4-ee48da771e8b",
   "metadata": {},
   "source": [
    "<div>\n",
    "<img src=\"images/mc34063_CT_waveform.png\" width=\"400\"/>\n",
    "</div>"
   ]
  },
  {
   "cell_type": "markdown",
   "id": "82a8a5a1-b05b-4cec-aff5-ba374e8cafdf",
   "metadata": {},
   "source": [
    "#### Case 1\n",
    "The oscillator charges (ramp-up)\n",
    "* AND-gate oscillator input is high, so S will be\n",
    "    * High if there is an output undervoltage &#8594;\n",
    "    * Low if there is an output overvoltage &#8594;\n",
    "* RESET will be low\n",
    "Then the latch will be set, \"Q\" = 1 -> output switch saturates.\n",
    "#### Case 2\n",
    "Oscillator reaches upper threshold. CT discharges\n",
    "* AND-gate oscillator input is low, so S will be low.\n",
    "* RESET will be high\n",
    "So the driver and output switch will be disabled.\n",
    "#### Conclusion\n",
    "Only during ramp-up of CT, when the S-input can become high can the output switch be set high."
   ]
  },
  {
   "cell_type": "markdown",
   "id": "19bf5d47-438d-4750-b8d4-53f2f47fd5ae",
   "metadata": {},
   "source": [
    "<div>\n",
    "<img src=\"images/mc34063_truth_table.png\" width=\"800\"/>\n",
    "</div>"
   ]
  },
  {
   "cell_type": "markdown",
   "id": "37f9325b-7db1-430e-9ab3-479812f8eda9",
   "metadata": {},
   "source": [
    "### Current Limiting\n",
    "Using an external resistor Rsc = 0.33 Ohm, the voltage drop isn monitored as a proxy for the current.\n",
    "1. When Vrsc > 0.33 V (a.k.a. Irsc > 1 A).\n",
    "2. An additional charging path is opened for CT\n",
    "3. Discharge time is more rapidly reached -> Switch-off of the buck converter occurs.\n",
    "\n",
    "Possible reasons\n",
    "* Overloading / shorting the output\n",
    "* Having an input voltage too high above the nominal design value"
   ]
  },
  {
   "cell_type": "markdown",
   "id": "7cbd0b2e-cece-4d04-972d-68cf5457b519",
   "metadata": {},
   "source": [
    "<div>\n",
    "<img src=\"images/mc34063_current_limiting.png\" width=\"600\"/>\n",
    "</div>"
   ]
  },
  {
   "cell_type": "markdown",
   "id": "5fd807f6-9247-497d-abe3-0e7a535091f9",
   "metadata": {},
   "source": [
    "## Design"
   ]
  },
  {
   "cell_type": "code",
   "execution_count": 4,
   "id": "304435b8-bdea-4475-b922-2ca2d99489de",
   "metadata": {},
   "outputs": [],
   "source": [
    "### Design parameters\n",
    "Vin = 12 # (nominal input voltage) V (minimum)\n",
    "VF = 0.6 # Chosen forward voltage drop - 1N5819\n",
    "Vout = 5 # (output voltage) V\n",
    "Vripple = 0.01 # (ripple voltage (peak 2 peak))\n",
    "### Component characteristics\n",
    "Vsat = 0.8 # Saturated mosfet voltage drop'\n",
    "### Switching frequency\n",
    "fmin = 50e3"
   ]
  },
  {
   "cell_type": "code",
   "execution_count": 5,
   "id": "3f701e68-12ec-4109-9458-31d62dc766c9",
   "metadata": {},
   "outputs": [
    {
     "name": "stdout",
     "output_type": "stream",
     "text": [
      "Iout: 0.28400000000000003\n"
     ]
    }
   ],
   "source": [
    "Iout_stm32 = 0.16 # datasheet p. 59\n",
    "Iout_opamp = 0.008 # datasheet p. 7, we have 3 of those\n",
    "Iout_CAN = 0.1 # Datasheet page 10 (when CAN is in dominant mode)\n",
    "\n",
    "Iout = Iout_stm32 + Iout_opamp*3 + Iout_CAN\n",
    "print(f\"Iout: {Iout}\")"
   ]
  },
  {
   "cell_type": "markdown",
   "id": "a7d58437-491c-4189-9e19-0230f1e541fc",
   "metadata": {},
   "source": [
    "**sources**\n",
    "> https://www.ti.com/lit/ds/symlink/ina180.pdfhttps://www.ti.com/lit/ds/symlink/ina180.pdf\n",
    "> https://www.st.com/resource/en/datasheet/stm32f303cb.pdf\n",
    "> https://ww1.microchip.com/downloads/en/DeviceDoc/20005991B.pdf"
   ]
  },
  {
   "cell_type": "markdown",
   "id": "a23d481f-ca28-4283-9480-b86f3aadddcf",
   "metadata": {},
   "source": [
    "### LC Filter Period\n",
    "* toff: time for\n",
    "    * the output voltage to reach lower limit $Vout-Vripple/2$\n",
    "    * inductor current to reach peak: $IL(peak)$\n",
    "* ton: time for\n",
    "    * the output voltage to reach upper limit $Vout+Vripple/2$\n",
    "    * Depending on the conduction mode (discontinuous / continuous) \\\n",
    "\n",
    "**ton/toff** \\\n",
    "IL: Current through the inductor\\\n",
    "ON conduction time: $IL = ((Vin - Vsat - Vout) / L)t$ \\\n",
    "OFF conduction time: $IL = IL(peak) - ((Vout + Vf) / L)t$ \\\n",
    "=> $ton / toff = Vout + VF / (Vin - Vsat - Vout)$ \\\n",
    "\n",
    "**ton + toff** \\\n",
    "The minimum switching frequency for the buck converter is equal to:\n",
    "* $fmin = 1/(ton(max) + toff)$ \n",
    "  \n",
    "A typical swithcing frequency chosen is 50 kHz. This frequency assumes the longest on-time. In reality the on-time might be shorter depending on the load (current consumption)."
   ]
  },
  {
   "cell_type": "code",
   "execution_count": 6,
   "id": "368a6d83-4026-44ee-ac3b-67d1ddf9c720",
   "metadata": {},
   "outputs": [
    {
     "name": "stdout",
     "output_type": "stream",
     "text": [
      "ton: 0.00000949152542372881 toff: 0.0000105084745762712\n",
      "ton/toff: 0.903225806451613\n"
     ]
    }
   ],
   "source": [
    "import sympy as sp\n",
    "ton, toff = sp.symbols('ton toff', real=True)\n",
    "eq1 = -ton/toff + (Vout + VF) / (Vin - Vsat - Vout)\n",
    "eq2 = -fmin + 1/(ton+toff)\n",
    "ton_toff = sp.solve([eq1, eq2], [ton, toff])\n",
    "ton = ton_toff[ton]\n",
    "toff = ton_toff[toff]\n",
    "print(f\"ton: {ton} toff: {toff}\")\n",
    "print(f\"ton/toff: {ton/toff}\")\n",
    "if ((ton / (ton+toff)) > 6/7):\n",
    "    # Maximum charge-to-discharge current is 6:1\n",
    "    print(f\"WARNING: {(ton / (ton+toff))}\")"
   ]
  },
  {
   "cell_type": "markdown",
   "id": "ae843dbb-839e-4ca8-b756-3f37d26ad455",
   "metadata": {},
   "source": [
    "### Oscillator calculation\n",
    "Select a value for the oscillator capacitor. This capacitor gets charged and discharged with a voltage dV, and a current Ichg(min), found in (5)"
   ]
  },
  {
   "cell_type": "code",
   "execution_count": 7,
   "id": "c412d229-c120-4a5b-a188-246ae550c070",
   "metadata": {},
   "outputs": [
    {
     "name": "stdout",
     "output_type": "stream",
     "text": [
      "Ct: 455.593220338983 pF\n"
     ]
    }
   ],
   "source": [
    "Ichg_min = 24e-6\n",
    "dV = 0.25\n",
    "C_T = Ichg_min * (ton / (2*dV))\n",
    "print(f\"Ct: {C_T*1e12} pF\")"
   ]
  },
  {
   "cell_type": "markdown",
   "id": "40573a5d-a262-4ce7-a361-c24c9a1f2911",
   "metadata": {},
   "source": [
    "### Inductor selection\n",
    "Select an inductor value using the formula:\n",
    "* Il = ((Vin - Vsat - Vout) / L) t\n",
    "\n",
    "Assuming the average inductor current is equal to the output current (neglecting parasitics and leakage). The current has a sawtooth form (according to the inductor function). Assuming continuous conduction mode:\n",
    "* Il(pk).ton/2 + Il(pk).toff/2 = Iout.ton + Iout.toff\n",
    "\n",
    "V = L.di/dt <=> integral(V) = L.t\n",
    "Evalutated at t = ton; I = Il(peak)\n",
    "<div>\n",
    "<img src=\"images/buck_filter_current_waveform.png\" width=\"600\"/>\n",
    "</div>"
   ]
  },
  {
   "cell_type": "code",
   "execution_count": 8,
   "id": "1509373c-28a0-48b6-a9f3-009ae5e07459",
   "metadata": {},
   "outputs": [
    {
     "name": "stdout",
     "output_type": "stream",
     "text": [
      "Lmin: 103.604678920984 uH\n"
     ]
    }
   ],
   "source": [
    "Ipk = 2*Iout\n",
    "Lmin = ((Vin-Vsat-Vout)/Ipk)*ton\n",
    "print(f\"Lmin: {Lmin*1e6} uH\")"
   ]
  },
  {
   "cell_type": "markdown",
   "id": "61627871-1b01-4bf7-988d-f25e32bba9cd",
   "metadata": {},
   "source": [
    "### Capacitor selection\n",
    "Net charge delivered to the Capacitor over one period is 0 ($Q = \\int icdt\\ = 0$), disregarding capacitor parasitics. \n",
    "$Q/C = V$ <=> $dq/dt = CdV/dt + VdC/dt$ <=> $(1/C).idt =dV$ \\\n",
    "Half the time charge is delivered to the capacitor, it is charging when current is flowing into the capacitor.\n",
    "\n",
    "* $Vripple = (1/C0) \\int i dt\\ + (1/C0)\\int i'dt\\ $\\\n",
    "  = $Ipk.(ton + toff) / (8.C0)$\n",
    "* $i = (1/2).Ipk.t/(ton/2)$      [t0 -> t1] = ton/2\n",
    "* $i' = (1/2).Ipk.t/(toff/2)$    [t1 -> t2] = toff/2\n",
    "\n",
    "<div>\n",
    "<img src=\"images/buck_filter_cap_charging.png\" width=\"600\"/>\n",
    "</div>"
   ]
  },
  {
   "cell_type": "code",
   "execution_count": 9,
   "id": "37a52b5d-331d-46e8-81b1-b18b0f3db309",
   "metadata": {},
   "outputs": [
    {
     "name": "stdout",
     "output_type": "stream",
     "text": [
      "C0: 142.000000000000 uF\n"
     ]
    }
   ],
   "source": [
    "C0 = Ipk*(ton+toff)/(8*Vripple)\n",
    "print(f\"C0: {C0*1e6} uF\")\n",
    "#! WARNING: Check capacitor ESR, 0.1 ohm ESR gives 0.5 V ripple"
   ]
  },
  {
   "cell_type": "markdown",
   "id": "86c4631d-b0ad-47c6-a293-6d43060df0f6",
   "metadata": {},
   "source": [
    "### Feedback Circuit\n",
    "The voltage reference is 1.25 V (see figure 11), so the feedback circuit should be designed so that $Vout.R1/(R1+R2) = 1.25$ <=> $Vout = 1.25(R2/R1+1)$"
   ]
  },
  {
   "cell_type": "code",
   "execution_count": 10,
   "id": "d386c367-a18b-4139-9c51-2b0b7b44d79f",
   "metadata": {},
   "outputs": [
    {
     "name": "stdout",
     "output_type": "stream",
     "text": [
      "Ratio R2/R1: 3.0\n",
      "R2: 3.6kOhm R1: 1.2kOhm\n"
     ]
    }
   ],
   "source": [
    "R2_R1_ratio = (Vout / 1.25) -1\n",
    "print(f\"Ratio R2/R1: {R2_R1_ratio}\")\n",
    "R2 = 3.6e3\n",
    "R1 = R2/R2_R1_ratio\n",
    "print(f\"R2: {R2*1e-3}kOhm R1: {R1*1e-3}kOhm\")"
   ]
  },
  {
   "cell_type": "markdown",
   "id": "c4a1d4ce-6685-46fd-9649-eb2f66b4ec22",
   "metadata": {},
   "source": [
    "**sources**\n",
    "> https://www.ti.com/lit/ds/symlink/mc33063a.pdf?ts=1717502531295 (check for layout) \\\n",
    "> https://wmsc.lcsc.com/wmsc/upload/file/pdf/v2/lcsc/2312291134_HXY-MOSFET-MC34063_C5349988.pdf (the original component datasheet from jlcpcb)\\\n",
    "> http://www.intusoft.com/onsemipdfs/AN920-D.pdf (used for calculation)"
   ]
  },
  {
   "cell_type": "code",
   "execution_count": null,
   "id": "784fa146-120f-4062-b51b-e01ef1f36454",
   "metadata": {},
   "outputs": [],
   "source": []
  }
 ],
 "metadata": {
  "kernelspec": {
   "display_name": "Python 3 (ipykernel)",
   "language": "python",
   "name": "python3"
  },
  "language_info": {
   "codemirror_mode": {
    "name": "ipython",
    "version": 3
   },
   "file_extension": ".py",
   "mimetype": "text/x-python",
   "name": "python",
   "nbconvert_exporter": "python",
   "pygments_lexer": "ipython3",
   "version": "3.10.12"
  }
 },
 "nbformat": 4,
 "nbformat_minor": 5
}
