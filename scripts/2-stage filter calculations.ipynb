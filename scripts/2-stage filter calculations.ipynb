{
 "cells": [
  {
   "attachments": {},
   "cell_type": "markdown",
   "id": "96025cc3-d31c-4e26-b9c9-c2c3bd1d1d5c",
   "metadata": {},
   "source": [
    "# Factoring Polynomial\n",
    "The goal is to factor a 2-stage LC filter polynomial to figure out the resonance points and contributions from each of the passive components to the filter behaviour.\n",
    "Given:\n",
    "- L1, C1: the first capacitor and inductor.\n",
    "- L2, C2: the second capacitor and inductor.\n",
    "\n",
    "![alternative text](images/image_2_stage_lc_simple.png)\n",
    "\n",
    "## Impedance calculation\n",
    "(assuming the impedance R1 is infinite:\n",
    "The total impedance of the LC filter is equal to \\\n",
    "$((L1||C1)+L2)||(C2))$ \\\n",
    "* $Z1 = (L1 || C1) + L2$ = $sL1 + (s²C1L1+1)sL2 \\over (s²C1L1+1)$\n",
    "* $Ztot = (Z1 || C2)$ = $Z1 \\over sC2Z1+1$ \\\n",
    "So the tranfer function for the 2-stage LC filter would be\n",
    "* $F(s) = (1/(sC2)) (1/Ztot)$"
   ]
  },
  {
   "cell_type": "code",
   "execution_count": 1,
   "id": "abc981dd-fedd-43e8-89b5-6ea14c9930a1",
   "metadata": {},
   "outputs": [],
   "source": [
    "import sympy as sp"
   ]
  },
  {
   "cell_type": "code",
   "execution_count": 48,
   "id": "a21777d0-ddd4-4b49-a9a5-2410d7843eb7",
   "metadata": {},
   "outputs": [
    {
     "name": "stdout",
     "output_type": "stream",
     "text": [
      "Zth = 1/(C1*s + 1/(L1*s))\n",
      "Vth = 1/(C1*L1*s**2 + 1)\n",
      "Z1 = 1/(C2*s)\n",
      "F = 1/(C2*s*(L2*s + 1/(C1*s + 1/(L1*s)) + 1/(C2*s)))\n"
     ]
    },
    {
     "data": {
      "text/latex": [
       "$\\displaystyle \\frac{C_{1} L_{1} s^{2} + 1}{C_{1} L_{1} s^{2} + C_{2} L_{1} s^{2} + C_{2} L_{2} s^{2} \\left(C_{1} L_{1} s^{2} + 1\\right) + 1}$"
      ],
      "text/plain": [
       "(C1*L1*s**2 + 1)/(C1*L1*s**2 + C2*L1*s**2 + C2*L2*s**2*(C1*L1*s**2 + 1) + 1)"
      ]
     },
     "execution_count": 48,
     "metadata": {},
     "output_type": "execute_result"
    }
   ],
   "source": [
    "s, C2, L2, C1, L1 = sp.symbols('s C2 L2 C1 L1')\n",
    "Zth = ((s*L1)**(-1) + (1/(s*C1))**(-1))**(-1)\n",
    "print(f\"Zth = {Zth}\")\n",
    "Vth = (1/(s*C1)) / (1 / (s*C1) + s*L1)\n",
    "Vth = sp.simplify(Vth)\n",
    "print(f\"Vth = {Vth}\")\n",
    "Z1 = 1/(s*C2)\n",
    "print(f\"Z1 = {Z1}\")\n",
    "H = (Z1 / (Z1 + s*L2 + Zth)) #* (Vth)\n",
    "sp.expand(H)\n",
    "print(f\"F = {H}\")\n",
    "sp.simplify(H)"
   ]
  },
  {
   "cell_type": "code",
   "execution_count": null,
   "id": "d3b09ae4-8499-4a0a-8d8b-3ed7d1a42be7",
   "metadata": {},
   "outputs": [],
   "source": [
    "s, R2, L2, C2, L6, C4, R1 = sp.symbols('s R2 L2 C2 L6 C4 R1')\n",
    "Z1 = ((1/s*C2) + (s*C1))**(-1) + s*L2\n",
    "Z1 = sp.simplify(Z1)\n",
    "print(f\"Z1 = {Z1}\")\n",
    "Ztot = (1/Z1 + s*C2)**(-1)\n",
    "Ztot = sp.simplify(Ztot)\n",
    "print(f\"Ztot = {Ztot}\")\n",
    "F = (1/(s*C2)) * (1 / Ztot)\n",
    "sp.expand(F)\n",
    "print(f\"F = {F}\")\n",
    "sp.simplify(F)"
   ]
  }
 ],
 "metadata": {
  "kernelspec": {
   "display_name": "Python 3 (ipykernel)",
   "language": "python",
   "name": "python3"
  },
  "language_info": {
   "codemirror_mode": {
    "name": "ipython",
    "version": 3
   },
   "file_extension": ".py",
   "mimetype": "text/x-python",
   "name": "python",
   "nbconvert_exporter": "python",
   "pygments_lexer": "ipython3",
   "version": "3.10.12"
  }
 },
 "nbformat": 4,
 "nbformat_minor": 5
}
