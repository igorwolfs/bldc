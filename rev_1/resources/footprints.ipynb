{
 "cells": [
  {
   "cell_type": "markdown",
   "id": "ce20b974-5201-45b6-8fbf-5ea4c88519f7",
   "metadata": {},
   "source": [
    "# ATA6560"
   ]
  },
  {
   "cell_type": "markdown",
   "id": "8af1e4ef-fe8a-40b4-88ef-bee498a4b343",
   "metadata": {},
   "source": [
    "**Link**: https://wmsc.lcsc.com/wmsc/upload/file/pdf/v2/lcsc/2202131800_Microchip-Tech-ATA6560-GAQW-N_C2671262.pdf"
   ]
  },
  {
   "cell_type": "code",
   "execution_count": 1,
   "id": "964e84c9-192f-4597-bb3c-c623191fe7fd",
   "metadata": {},
   "outputs": [],
   "source": [
    "### MAIN CENTER PAD\n",
    "main_pad_h = 1.7\n",
    "main_pad_w = 2.5"
   ]
  },
  {
   "cell_type": "code",
   "execution_count": 2,
   "id": "1c5173f8-2b60-457e-a434-bae04e08dadf",
   "metadata": {},
   "outputs": [
    {
     "name": "stdout",
     "output_type": "stream",
     "text": [
      "coord: (-0.975, 1.5), (w,h):((0.35, 0.8))\n",
      "coord: (-0.325, 1.5), (w,h):((0.35, 0.8))\n",
      "coord: (0.325, 1.5), (w,h):((0.35, 0.8))\n",
      "coord: (0.975, 1.5), (w,h):((0.35, 0.8))\n",
      "coord: (-0.975, -1.5), (w,h):((0.35, 0.8))\n",
      "coord: (-0.325, -1.5), (w,h):((0.35, 0.8))\n",
      "coord: (0.325, -1.5), (w,h):((0.35, 0.8))\n",
      "coord: (0.975, -1.5), (w,h):((0.35, 0.8))\n"
     ]
    }
   ],
   "source": [
    "### UPPER LEFT PAD\n",
    "pad_x_pitch = 0.65\n",
    "pad_y_pitch = 3\n",
    "\n",
    "small_pad_h = 0.8\n",
    "small_pad_w = 0.35\n",
    "pad_distance_from_edge = (main_pad_w - pad_x_pitch*3 - small_pad_w)/2\n",
    "ul_center_x = - main_pad_w / 2 + pad_distance_from_edge + small_pad_w/2\n",
    "ul_center_y = pad_y_pitch / 2\n",
    "for i in range(4):\n",
    "    print(f\"coord: ({round(ul_center_x+i*pad_x_pitch, 3)}, {round(ul_center_y, 3)}), (w,h):({small_pad_w, small_pad_h})\")\n",
    "for i in range(4):\n",
    "    print(f\"coord: ({round(ul_center_x+i*pad_x_pitch, 3)}, {round(ul_center_y-pad_y_pitch, 3)}), (w,h):({small_pad_w, small_pad_h})\")"
   ]
  },
  {
   "cell_type": "code",
   "execution_count": 3,
   "id": "c369cae9-8d3e-4e3e-9e46-fa4ee4549d23",
   "metadata": {},
   "outputs": [
    {
     "name": "stdout",
     "output_type": "stream",
     "text": [
      "Chamfer (x, y): (1.05, 0.6499999999999999)\n"
     ]
    }
   ],
   "source": [
    "ch = 0.2\n",
    "print(f\"Chamfer (x, y): ({main_pad_w/2-ch}, {main_pad_h/2-ch})\")"
   ]
  },
  {
   "cell_type": "code",
   "execution_count": 4,
   "id": "c216024e-a57e-4cd9-84cb-870542ce9a94",
   "metadata": {},
   "outputs": [
    {
     "name": "stdout",
     "output_type": "stream",
     "text": [
      "Silkscreen\n",
      "1.87 3.0\n",
      "1.87 3.0\n",
      "1.87 3.0\n",
      "1.87 3.0\n"
     ]
    }
   ],
   "source": [
    "print(\"Silkscreen\")\n",
    "for i in range(4):\n",
    "    print(f\"{main_pad_h*1.1} {main_pad_w*1.2}\")"
   ]
  },
  {
   "cell_type": "markdown",
   "id": "ff9c8881-ac89-4aee-ab1a-e3425af9b159",
   "metadata": {},
   "source": [
    "# ATA6560"
   ]
  },
  {
   "cell_type": "code",
   "execution_count": 9,
   "id": "fbd8658e-885a-4b9f-acdd-9c7bd962a111",
   "metadata": {},
   "outputs": [],
   "source": [
    "### Left top coordinate\n",
    "pad_w = 0.3\n",
    "pad_h = 0.5\n",
    "outer_h = 1.25\n",
    "inner_h = 0.25\n",
    "outer_w = pad_pitch_w*2 + pad_w\n",
    "pad_pitch_w = 0.5\n",
    "pad_pitch_h = outer_h - pad_h"
   ]
  },
  {
   "cell_type": "code",
   "execution_count": 11,
   "id": "12893e99-ff2f-4c49-b926-514a8207764f",
   "metadata": {},
   "outputs": [
    {
     "name": "stdout",
     "output_type": "stream",
     "text": [
      "coord: (-0.5, 0.375), (w, h): (0.3, 0.5)\n",
      "coord: (0.0, 0.375), (w, h): (0.3, 0.5)\n",
      "coord: (0.5, 0.375), (w, h): (0.3, 0.5)\n",
      "coord: (-0.5, -0.375), (w, h): (0.3, 0.5)\n",
      "coord: (0.0, -0.375), (w, h): (0.3, 0.5)\n",
      "coord: (0.5, -0.375), (w, h): (0.3, 0.5)\n"
     ]
    }
   ],
   "source": [
    "lh_x = (-outer_w+pad_w)/2\n",
    "lh_y = inner_h/2+pad_h/2\n",
    "for i in range(3):\n",
    "    print(f\"coord: ({lh_x+pad_pitch_w*i}, {lh_y}), (w, h): ({pad_w}, {pad_h})\")\n",
    "for i in range(3):\n",
    "    print(f\"coord: ({lh_x+pad_pitch_w*i}, {-lh_y}), (w, h): ({pad_w}, {pad_h})\")"
   ]
  },
  {
   "cell_type": "code",
   "execution_count": null,
   "id": "600e2a12-cac3-41ca-8f21-e83d29ad9488",
   "metadata": {},
   "outputs": [],
   "source": []
  }
 ],
 "metadata": {
  "kernelspec": {
   "display_name": "Python 3 (ipykernel)",
   "language": "python",
   "name": "python3"
  },
  "language_info": {
   "codemirror_mode": {
    "name": "ipython",
    "version": 3
   },
   "file_extension": ".py",
   "mimetype": "text/x-python",
   "name": "python",
   "nbconvert_exporter": "python",
   "pygments_lexer": "ipython3",
   "version": "3.10.12"
  }
 },
 "nbformat": 4,
 "nbformat_minor": 5
}
