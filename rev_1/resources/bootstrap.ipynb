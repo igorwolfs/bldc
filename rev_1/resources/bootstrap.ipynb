{
 "cells": [
  {
   "cell_type": "markdown",
   "id": "606acc72-dad1-4fb3-a5b6-e66422cc6dcf",
   "metadata": {},
   "source": [
    "# Bootstrap circuit design"
   ]
  },
  {
   "cell_type": "markdown",
   "id": "02139708-e5df-4c01-bf6c-7b96f6e20c66",
   "metadata": {},
   "source": [
    "<div>\n",
    "<img src=\"images/bootstrap_circuit.png\" width=\"600\"/>\n",
    "</div>"
   ]
  },
  {
   "cell_type": "code",
   "execution_count": 7,
   "id": "ae89f3bd-2f53-4558-ac56-da9165b33969",
   "metadata": {},
   "outputs": [],
   "source": [
    "#! NOTE: we use FET's here, but we use IGBT naming conventions\n",
    "Vcc = 12 # supply voltage is 12 or more\n",
    "Vf = 0.6 # Forward voltage drop (1N5819)\n",
    "Vge_min =  10 # 10 V for complete saturation. Gate-source voltage (MOSFET: IRFZ44N in saturation region)\n",
    "Vce_on = 0.5 # source-drain voltage drop when current flowing through the low side IGBT, current assume: about 10 Amps, T: about 175 degrees C\n",
    "Vbusv_neg = None # Vcc supply undervoltage negative going threshold"
   ]
  },
  {
   "cell_type": "markdown",
   "id": "c923660a-6ad8-4d1d-8805-8e286ed18846",
   "metadata": {},
   "source": [
    "### Capacitor sizing\n",
    "#### Minimum voltage drop to guarantee FET on\n",
    "The voltage variation over the bootstrap capacitor $V_{BS} > V_{GS\\_MIN}$, and $V_{BS}$ is charged until a maximum of $V_{cc}-V_{F}$. So the maximum bootstrap voltage change is $dV_{BS} = V_{cc} - V_{GS\\_MIN} - V_{F}$ if the goal is to keep the FET gate voltage high enough. Divide by a safety factor of 2 to be sure."
   ]
  },
  {
   "cell_type": "code",
   "execution_count": 8,
   "id": "7f3471b2-f853-4a06-8216-21e4df380424",
   "metadata": {},
   "outputs": [
    {
     "name": "stdout",
     "output_type": "stream",
     "text": [
      "Maximum bootstrap voltage change over the on-time period dVbs: 0.70\n",
      "No undervoltage protection for BSUV defined\n"
     ]
    }
   ],
   "source": [
    "dVbs = (Vcc - Vf - Vge_min)/2\n",
    "print(f\"Maximum bootstrap voltage change over the on-time period dVbs: {dVbs:.2f}\")\n",
    "if (Vbusv_neg != None):\n",
    "    print(f\"Conditon (Vge_min > V_bsuv-): {Vge_min > Vbusv_neg}\")\n",
    "else:\n",
    "    print(\"No undervoltage protection for BSUV defined\")"
   ]
  },
  {
   "cell_type": "markdown",
   "id": "c0dcddc2-fa06-48c1-b001-35b4358c1db9",
   "metadata": {},
   "source": [
    "#### Vbs parasitics\n",
    "* $Q_{G}$: FET gate charge required for turn-on\n",
    "* $I_{LK\\_GE}$: Gate-source leakage current\n",
    "* $I_{QBS}$: floating section quiescent current.\n",
    "* $I_{LK}$: floating section leakage current\n",
    "* $I_{LK\\_DIODE}$: bootstrap diode leakage current\n",
    "* $I_{DS-}$: desaturation diode bias when on\n",
    "* $Q_{LS}$: Charge required by internal level shifters\n",
    "* $I_{LK\\_CAP}$: bootstrap capacitor leakage current\n",
    "* $T_{HON}$: high-side on-time\n",
    "\n",
    "\\\n",
    "**Quiescent Current**: Nominal (average) current used while \"on\" in a minimal, no-load state. (so not actively working). It is a consequence of power requirements for the device at that time. It increases with supply voltage and temperature. \\\n",
    "**Shutdown Current / Leakage current**: Current used while device is in shutdown / \"sleep\"-state, and there is zero voltage at the output."
   ]
  },
  {
   "cell_type": "code",
   "execution_count": 1,
   "id": "27e3777f-95b1-44b2-b004-c92bbe4d0222",
   "metadata": {},
   "outputs": [],
   "source": [
    "### FET characteristics\n",
    "Q_G = 63e-9 # total gate charge (Coulomb)\n",
    "I_LK_GE = 100e-9 # Gate-source FORWARD leakage current\n",
    "\n",
    "### FET Driver characteristics\n",
    "I_QBS = 55e-6 # Quiescent Vbs supply current\n",
    "I_LK = 50e-6 # offset supply leakage current\n",
    "Q_LS = 0 # Charge required by level shifters not given\n",
    "I_DS_NEG = 0 # No desaturation pin.\n",
    "\n",
    "### Diode characteristics\n",
    "I_LK_DIODE = 1e-3 # Diode leakage current (best case, 10 mA worst case)\n",
    "\n",
    "### Capacitor characteristics \n",
    "I_LK_CAP = 0 # Ceramic capacitor: low leakage current.\n",
    "\n",
    "### Timing characterisitcs\n",
    "T_HON = 1e-3 # 1 ms of ON time, 6-steps / 2 gives you about max a (1/3) kHz electrical cycle for that on-time"
   ]
  },
  {
   "cell_type": "code",
   "execution_count": 2,
   "id": "418e1e21-14ee-436e-a843-16625e1f422a",
   "metadata": {},
   "outputs": [
    {
     "ename": "NameError",
     "evalue": "name 'dVbs' is not defined",
     "output_type": "error",
     "traceback": [
      "\u001b[0;31m---------------------------------------------------------------------------\u001b[0m",
      "\u001b[0;31mNameError\u001b[0m                                 Traceback (most recent call last)",
      "Cell \u001b[0;32mIn[2], line 2\u001b[0m\n\u001b[1;32m      1\u001b[0m Q_TOT \u001b[38;5;241m=\u001b[39m Q_G \u001b[38;5;241m+\u001b[39m Q_LS \u001b[38;5;241m+\u001b[39m (I_LK_GE \u001b[38;5;241m+\u001b[39m I_QBS \u001b[38;5;241m+\u001b[39m I_LK \u001b[38;5;241m+\u001b[39m I_LK_DIODE \u001b[38;5;241m+\u001b[39m I_LK_CAP \u001b[38;5;241m+\u001b[39m I_DS_NEG )\u001b[38;5;241m*\u001b[39mT_HON\n\u001b[0;32m----> 2\u001b[0m C_BOOT_MIN \u001b[38;5;241m=\u001b[39m Q_TOT \u001b[38;5;241m/\u001b[39m \u001b[43mdVbs\u001b[49m\n\u001b[1;32m      3\u001b[0m \u001b[38;5;28mprint\u001b[39m(\u001b[38;5;124mf\u001b[39m\u001b[38;5;124m\"\u001b[39m\u001b[38;5;124mMinimum capacitance: \u001b[39m\u001b[38;5;132;01m{\u001b[39;00mC_BOOT_MIN\u001b[38;5;132;01m}\u001b[39;00m\u001b[38;5;124m, Minimum charge: \u001b[39m\u001b[38;5;132;01m{\u001b[39;00mQ_TOT\u001b[38;5;132;01m}\u001b[39;00m\u001b[38;5;124m\"\u001b[39m)\n",
      "\u001b[0;31mNameError\u001b[0m: name 'dVbs' is not defined"
     ]
    }
   ],
   "source": [
    "Q_TOT = Q_G + Q_LS + (I_LK_GE + I_QBS + I_LK + I_LK_DIODE + I_LK_CAP + I_DS_NEG )*T_HON\n",
    "C_BOOT_MIN = Q_TOT / dVbs\n",
    "print(f\"Minimum capacitance: {C_BOOT_MIN}, Minimum charge: {Q_TOT}\")"
   ]
  },
  {
   "cell_type": "markdown",
   "id": "fc183a60-8ef0-4f93-ac59-ca412e3fb1f2",
   "metadata": {},
   "source": [
    "### Additional resistor in bootstrap circuit"
   ]
  },
  {
   "cell_type": "markdown",
   "id": "dc7077ad-ed18-4e1e-8b20-2e9762b42237",
   "metadata": {},
   "source": [
    "The goal is 2-fold:\n",
    "* Limit the initial charging current for the bootstrap capacitor from 0 to 12 volts.\n",
    "* Limit the resistor size to make sure the bootstrap capacitor can be filled in time for when the gate is charged using it.\n",
    "    * This will likely not be a problem."
   ]
  },
  {
   "cell_type": "markdown",
   "id": "13a1ce1e-78a1-4034-aee5-a00f5da8812b",
   "metadata": {},
   "source": [
    "* Choose the initial resistance value of 10 ohms, this way you limit the inrush current to about 1 amp (not taking into account the diode and ESR).\n",
    "* We will however need to give the capacitor some time to charge befor actually starting the switching circuit.\n",
    "* Once the capacitor is charged, the average current will be about 40 mA, entailing a voltage drop of about 0.4 volts."
   ]
  },
  {
   "cell_type": "markdown",
   "id": "835ec059-65ef-436d-846e-0d55c9904c9b",
   "metadata": {},
   "source": [
    "**Sources:**\n",
    "> https://www.infineon.com/dgdl/Infineon-Using_Monolithic_Voltage_Gate_Drivers-AN-v01_00-EN.pdf?fileId=5546d462584d1d4a01585242c11947b1  \\\n",
    "Undervoltage lockout: \\\n",
    "> https://www.infineon.com/dgdl/Infineon-2ED2738S01G-DataSheet-v01_00-EN.pdf?fileId=8ac78c8c8929aa4d0189ab5bb5d40499 \\\n",
    "Shutdown vs Quiescent / Leakage current \\\n",
    "> https://www.ti.com/lit/an/slva757/slva757.pdf?ts=1718513706159 \\\n",
    "Fet-driver datasheet: \\\n",
    "> https://www.infineon.com/dgdl/Infineon-IR2104-DS-v01_00-EN.pdf?fileId=5546d462533600a4015355c7c1c31671 \\\n",
    "FET-datasheet:\n",
    "> https://www.infineon.com/dgdl/Infineon-IRFZ44N-DataSheet-v01_01-EN.pdf?fileId=5546d462533600a40153563b3a9f220d \\\n",
    "Diode datasheet: \\\n",
    "> https://wmsc.lcsc.com/wmsc/upload/file/pdf/v2/lcsc/2204281430_Guangdong-Hottech-1N5819WS_C191023.pdf \\\n",
    "Capacitor datasheet (C19666)\n",
    "> https://wmsc.lcsc.com/wmsc/upload/file/pdf/v2/lcsc/2304140030_Samsung-Electro-Mechanics-CL10A475KO8NNNC_C19666.pdf"
   ]
  }
 ],
 "metadata": {
  "kernelspec": {
   "display_name": "Python 3 (ipykernel)",
   "language": "python",
   "name": "python3"
  },
  "language_info": {
   "codemirror_mode": {
    "name": "ipython",
    "version": 3
   },
   "file_extension": ".py",
   "mimetype": "text/x-python",
   "name": "python",
   "nbconvert_exporter": "python",
   "pygments_lexer": "ipython3",
   "version": "3.10.12"
  }
 },
 "nbformat": 4,
 "nbformat_minor": 5
}
